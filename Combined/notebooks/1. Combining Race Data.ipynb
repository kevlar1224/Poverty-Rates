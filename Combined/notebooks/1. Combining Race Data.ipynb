{
 "cells": [
  {
   "cell_type": "code",
   "execution_count": 1,
   "metadata": {},
   "outputs": [],
   "source": [
    "import pandas as pd\n",
    "pd.set_option(\"display.max_rows\", 5000)"
   ]
  },
  {
   "cell_type": "code",
   "execution_count": 12,
   "metadata": {},
   "outputs": [],
   "source": [
    "hiv_df = pd.read_csv('../../HIV/data/cleaned/race.csv')\n",
    "infant_df = pd.read_csv(\"../../Infant Mortality/data/race/total.csv\")\n",
    "insurance_df = pd.read_csv('../../Insurance/data/cleaned/race.csv')\n",
    "disease_df = pd.read_csv(\"../../Newborn Diseases/data/cleaned/groupedRace.csv\")\n",
    "poverty_df = pd.read_csv(\"../../Poverty/data/race/total.csv\")"
   ]
  },
  {
   "cell_type": "code",
   "execution_count": 14,
   "metadata": {},
   "outputs": [],
   "source": [
    "# hiv_df.columns = ['Race','HIV (non-AIDS) Rate','AIDS Rate','HIV/AIDS Rate']\n",
    "hiv_df = hiv_df.drop(['HIV (non-AIDS) Count', 'AIDS Count', 'HIV/AIDS Count'], axis=1)\n",
    "infant_df = infant_df.drop(['Count', 'Total Live Births'], axis=1)\n",
    "infant_df.columns = ['Race', 'Infant Mortality Rate']\n",
    "insurance_df = insurance_df.drop(['Number of Applicants', 'Population Size'], axis=1)\n",
    "disease_df = disease_df.drop(['Case Count', 'Screened Count'], axis=1)\n",
    "disease_df.columns = ['Race', 'Disease Rate per 100,000']\n",
    "poverty_df = poverty_df.drop(['Population', 'Poverty'], axis=1)\n",
    "poverty_df.columns = ['Race', 'Poverty Rate']"
   ]
  },
  {
   "cell_type": "code",
   "execution_count": 15,
   "metadata": {},
   "outputs": [],
   "source": [
    "new_races = ['American Indian and/or Alaska Native', 'Asian', 'Black or African American', \n",
    "             'Hispanic', 'Mixed Race', 'Native Hawaiian and Other Pacific Islander', \n",
    "             'White', 'Not Reported', 'Other']"
   ]
  },
  {
   "cell_type": "code",
   "execution_count": 16,
   "metadata": {},
   "outputs": [
    {
     "data": {
      "text/plain": [
       "['Not Stated or Unknown',\n",
       " 'Pacific Islander/Hawaiian',\n",
       " 'White/Other',\n",
       " 'Black',\n",
       " 'American Indian',\n",
       " 'Asian',\n",
       " 'Two or more races',\n",
       " 'Hispanic']"
      ]
     },
     "execution_count": 16,
     "metadata": {},
     "output_type": "execute_result"
    }
   ],
   "source": [
    "infant_df['Race'].value_counts().keys().tolist()"
   ]
  },
  {
   "cell_type": "code",
   "execution_count": 17,
   "metadata": {},
   "outputs": [
    {
     "data": {
      "text/html": [
       "<div>\n",
       "<style scoped>\n",
       "    .dataframe tbody tr th:only-of-type {\n",
       "        vertical-align: middle;\n",
       "    }\n",
       "\n",
       "    .dataframe tbody tr th {\n",
       "        vertical-align: top;\n",
       "    }\n",
       "\n",
       "    .dataframe thead th {\n",
       "        text-align: right;\n",
       "    }\n",
       "</style>\n",
       "<table border=\"1\" class=\"dataframe\">\n",
       "  <thead>\n",
       "    <tr style=\"text-align: right;\">\n",
       "      <th></th>\n",
       "      <th>Race</th>\n",
       "      <th>Infant Mortality Rate</th>\n",
       "    </tr>\n",
       "  </thead>\n",
       "  <tbody>\n",
       "    <tr>\n",
       "      <th>0</th>\n",
       "      <td>American Indian and/or Alaska Native</td>\n",
       "      <td>5.35</td>\n",
       "    </tr>\n",
       "    <tr>\n",
       "      <th>1</th>\n",
       "      <td>Asian</td>\n",
       "      <td>2.95</td>\n",
       "    </tr>\n",
       "    <tr>\n",
       "      <th>2</th>\n",
       "      <td>Black or African American</td>\n",
       "      <td>11.12</td>\n",
       "    </tr>\n",
       "    <tr>\n",
       "      <th>3</th>\n",
       "      <td>Hispanic</td>\n",
       "      <td>5.07</td>\n",
       "    </tr>\n",
       "    <tr>\n",
       "      <th>6</th>\n",
       "      <td>Mixed Race</td>\n",
       "      <td>10.94</td>\n",
       "    </tr>\n",
       "    <tr>\n",
       "      <th>5</th>\n",
       "      <td>Native Hawaiian and Other Pacific Islander</td>\n",
       "      <td>6.51</td>\n",
       "    </tr>\n",
       "    <tr>\n",
       "      <th>4</th>\n",
       "      <td>Not Reported</td>\n",
       "      <td>1.02</td>\n",
       "    </tr>\n",
       "    <tr>\n",
       "      <th>7</th>\n",
       "      <td>White</td>\n",
       "      <td>4.26</td>\n",
       "    </tr>\n",
       "  </tbody>\n",
       "</table>\n",
       "</div>"
      ],
      "text/plain": [
       "                                         Race  Infant Mortality Rate\n",
       "0        American Indian and/or Alaska Native                   5.35\n",
       "1                                       Asian                   2.95\n",
       "2                   Black or African American                  11.12\n",
       "3                                    Hispanic                   5.07\n",
       "6                                  Mixed Race                  10.94\n",
       "5  Native Hawaiian and Other Pacific Islander                   6.51\n",
       "4                                Not Reported                   1.02\n",
       "7                                       White                   4.26"
      ]
     },
     "execution_count": 17,
     "metadata": {},
     "output_type": "execute_result"
    }
   ],
   "source": [
    "infant_races = ['American Indian', 'Asian', 'Black', 'Hispanic',\n",
    "                'Two or more races', 'Pacific Islander/Hawaiian', 'White/Other', \n",
    "                'Not Stated or Unknown']\n",
    "\n",
    "for i in range(len(infant_df)):\n",
    "    race = infant_df.iloc[i, 0]\n",
    "    if race in infant_races:\n",
    "        infant_df.iloc[i, 0] = new_races[infant_races.index(race)]\n",
    "        \n",
    "infant_df = infant_df.sort_values(by=['Race'])\n",
    "infant_df"
   ]
  },
  {
   "cell_type": "code",
   "execution_count": 18,
   "metadata": {},
   "outputs": [
    {
     "data": {
      "text/plain": [
       "['Other',\n",
       " 'Mixed Race',\n",
       " 'Hispanic or Latino',\n",
       " 'Black or African American',\n",
       " 'American Indian and/or Alaska Native',\n",
       " 'Asian',\n",
       " 'White',\n",
       " 'Not Reported']"
      ]
     },
     "execution_count": 18,
     "metadata": {},
     "output_type": "execute_result"
    }
   ],
   "source": [
    "disease_df['Race'].value_counts().keys().tolist()"
   ]
  },
  {
   "cell_type": "code",
   "execution_count": 19,
   "metadata": {},
   "outputs": [
    {
     "data": {
      "text/html": [
       "<div>\n",
       "<style scoped>\n",
       "    .dataframe tbody tr th:only-of-type {\n",
       "        vertical-align: middle;\n",
       "    }\n",
       "\n",
       "    .dataframe tbody tr th {\n",
       "        vertical-align: top;\n",
       "    }\n",
       "\n",
       "    .dataframe thead th {\n",
       "        text-align: right;\n",
       "    }\n",
       "</style>\n",
       "<table border=\"1\" class=\"dataframe\">\n",
       "  <thead>\n",
       "    <tr style=\"text-align: right;\">\n",
       "      <th></th>\n",
       "      <th>Race</th>\n",
       "      <th>Disease Rate per 100,000</th>\n",
       "    </tr>\n",
       "  </thead>\n",
       "  <tbody>\n",
       "    <tr>\n",
       "      <th>0</th>\n",
       "      <td>American Indian and/or Alaska Native</td>\n",
       "      <td>133.13</td>\n",
       "    </tr>\n",
       "    <tr>\n",
       "      <th>1</th>\n",
       "      <td>Asian</td>\n",
       "      <td>76.71</td>\n",
       "    </tr>\n",
       "    <tr>\n",
       "      <th>2</th>\n",
       "      <td>Black or African American</td>\n",
       "      <td>307.39</td>\n",
       "    </tr>\n",
       "    <tr>\n",
       "      <th>3</th>\n",
       "      <td>Hispanic</td>\n",
       "      <td>99.63</td>\n",
       "    </tr>\n",
       "    <tr>\n",
       "      <th>4</th>\n",
       "      <td>Mixed Race</td>\n",
       "      <td>79.17</td>\n",
       "    </tr>\n",
       "    <tr>\n",
       "      <th>5</th>\n",
       "      <td>Not Reported</td>\n",
       "      <td>86.93</td>\n",
       "    </tr>\n",
       "    <tr>\n",
       "      <th>6</th>\n",
       "      <td>Other</td>\n",
       "      <td>114.43</td>\n",
       "    </tr>\n",
       "    <tr>\n",
       "      <th>7</th>\n",
       "      <td>White</td>\n",
       "      <td>93.82</td>\n",
       "    </tr>\n",
       "  </tbody>\n",
       "</table>\n",
       "</div>"
      ],
      "text/plain": [
       "                                   Race  Disease Rate per 100,000\n",
       "0  American Indian and/or Alaska Native                    133.13\n",
       "1                                 Asian                     76.71\n",
       "2             Black or African American                    307.39\n",
       "3                              Hispanic                     99.63\n",
       "4                            Mixed Race                     79.17\n",
       "5                          Not Reported                     86.93\n",
       "6                                 Other                    114.43\n",
       "7                                 White                     93.82"
      ]
     },
     "execution_count": 19,
     "metadata": {},
     "output_type": "execute_result"
    }
   ],
   "source": [
    "for i in range(len(disease_df)):\n",
    "    race = disease_df.iloc[i, 0]\n",
    "    if race == 'Hispanic or Latino':\n",
    "        disease_df.iloc[i, 0] = 'Hispanic'\n",
    "        \n",
    "disease_df = disease_df.sort_values(by=['Race'])\n",
    "disease_df"
   ]
  },
  {
   "cell_type": "code",
   "execution_count": 20,
   "metadata": {},
   "outputs": [
    {
     "data": {
      "text/plain": [
       "['Native Hawaiian and Other Pacific Islander',\n",
       " 'Other',\n",
       " 'Mixed Race',\n",
       " 'Black or African American',\n",
       " 'American Indian and/or Alaska Native',\n",
       " 'Asian',\n",
       " 'Hispanic',\n",
       " 'White']"
      ]
     },
     "execution_count": 20,
     "metadata": {},
     "output_type": "execute_result"
    }
   ],
   "source": [
    "poverty_df['Race'].value_counts().keys().tolist()"
   ]
  },
  {
   "cell_type": "code",
   "execution_count": 21,
   "metadata": {},
   "outputs": [
    {
     "data": {
      "text/html": [
       "<div>\n",
       "<style scoped>\n",
       "    .dataframe tbody tr th:only-of-type {\n",
       "        vertical-align: middle;\n",
       "    }\n",
       "\n",
       "    .dataframe tbody tr th {\n",
       "        vertical-align: top;\n",
       "    }\n",
       "\n",
       "    .dataframe thead th {\n",
       "        text-align: right;\n",
       "    }\n",
       "</style>\n",
       "<table border=\"1\" class=\"dataframe\">\n",
       "  <thead>\n",
       "    <tr style=\"text-align: right;\">\n",
       "      <th></th>\n",
       "      <th>Race</th>\n",
       "      <th>HIV (non-AIDS) Rate</th>\n",
       "      <th>AIDS Rate</th>\n",
       "      <th>HIV/AIDS Rate</th>\n",
       "      <th>Infant Mortality Rate</th>\n",
       "      <th>Insurance Application Rate</th>\n",
       "      <th>Disease Rate per 100,000</th>\n",
       "      <th>Poverty Rate</th>\n",
       "    </tr>\n",
       "  </thead>\n",
       "  <tbody>\n",
       "    <tr>\n",
       "      <th>0</th>\n",
       "      <td>American Indian and/or Alaska Native</td>\n",
       "      <td>118.6</td>\n",
       "      <td>164.3</td>\n",
       "      <td>282.9</td>\n",
       "      <td>5.35</td>\n",
       "      <td>1.88</td>\n",
       "      <td>133.13</td>\n",
       "      <td>20.2</td>\n",
       "    </tr>\n",
       "    <tr>\n",
       "      <th>1</th>\n",
       "      <td>Asian</td>\n",
       "      <td>34.9</td>\n",
       "      <td>48.9</td>\n",
       "      <td>83.8</td>\n",
       "      <td>2.95</td>\n",
       "      <td>3.28</td>\n",
       "      <td>76.71</td>\n",
       "      <td>11.5</td>\n",
       "    </tr>\n",
       "    <tr>\n",
       "      <th>2</th>\n",
       "      <td>Black or African American</td>\n",
       "      <td>370.1</td>\n",
       "      <td>595.5</td>\n",
       "      <td>965.7</td>\n",
       "      <td>11.12</td>\n",
       "      <td>5.66</td>\n",
       "      <td>307.39</td>\n",
       "      <td>21.4</td>\n",
       "    </tr>\n",
       "    <tr>\n",
       "      <th>3</th>\n",
       "      <td>Hispanic</td>\n",
       "      <td>98.8</td>\n",
       "      <td>164.0</td>\n",
       "      <td>262.8</td>\n",
       "      <td>5.07</td>\n",
       "      <td>4.98</td>\n",
       "      <td>99.63</td>\n",
       "      <td>20.9</td>\n",
       "    </tr>\n",
       "    <tr>\n",
       "      <th>4</th>\n",
       "      <td>Mixed Race</td>\n",
       "      <td>79.2</td>\n",
       "      <td>97.0</td>\n",
       "      <td>176.1</td>\n",
       "      <td>10.94</td>\n",
       "      <td>3.09</td>\n",
       "      <td>79.17</td>\n",
       "      <td>13.2</td>\n",
       "    </tr>\n",
       "    <tr>\n",
       "      <th>5</th>\n",
       "      <td>White</td>\n",
       "      <td>136.3</td>\n",
       "      <td>208.3</td>\n",
       "      <td>344.5</td>\n",
       "      <td>4.26</td>\n",
       "      <td>3.71</td>\n",
       "      <td>93.82</td>\n",
       "      <td>8.0</td>\n",
       "    </tr>\n",
       "  </tbody>\n",
       "</table>\n",
       "</div>"
      ],
      "text/plain": [
       "                                   Race  HIV (non-AIDS) Rate  AIDS Rate  \\\n",
       "0  American Indian and/or Alaska Native                118.6      164.3   \n",
       "1                                 Asian                 34.9       48.9   \n",
       "2             Black or African American                370.1      595.5   \n",
       "3                              Hispanic                 98.8      164.0   \n",
       "4                            Mixed Race                 79.2       97.0   \n",
       "5                                 White                136.3      208.3   \n",
       "\n",
       "   HIV/AIDS Rate  Infant Mortality Rate  Insurance Application Rate  \\\n",
       "0          282.9                   5.35                        1.88   \n",
       "1           83.8                   2.95                        3.28   \n",
       "2          965.7                  11.12                        5.66   \n",
       "3          262.8                   5.07                        4.98   \n",
       "4          176.1                  10.94                        3.09   \n",
       "5          344.5                   4.26                        3.71   \n",
       "\n",
       "   Disease Rate per 100,000  Poverty Rate  \n",
       "0                    133.13          20.2  \n",
       "1                     76.71          11.5  \n",
       "2                    307.39          21.4  \n",
       "3                     99.63          20.9  \n",
       "4                     79.17          13.2  \n",
       "5                     93.82           8.0  "
      ]
     },
     "execution_count": 21,
     "metadata": {},
     "output_type": "execute_result"
    }
   ],
   "source": [
    "combined_df = hiv_df.merge(infant_df, on='Race').merge(insurance_df, on='Race')\\\n",
    "                .merge(disease_df, on='Race')\\\n",
    "                .merge(poverty_df, on='Race')\n",
    "\n",
    "combined_df"
   ]
  },
  {
   "cell_type": "code",
   "execution_count": 22,
   "metadata": {},
   "outputs": [],
   "source": [
    "combined_df.to_csv(\"../data/combined.csv\", index=False)"
   ]
  },
  {
   "cell_type": "code",
   "execution_count": null,
   "metadata": {},
   "outputs": [],
   "source": []
  }
 ],
 "metadata": {
  "kernelspec": {
   "display_name": "Python 3",
   "language": "python",
   "name": "python3"
  },
  "language_info": {
   "codemirror_mode": {
    "name": "ipython",
    "version": 3
   },
   "file_extension": ".py",
   "mimetype": "text/x-python",
   "name": "python",
   "nbconvert_exporter": "python",
   "pygments_lexer": "ipython3",
   "version": "3.7.0"
  }
 },
 "nbformat": 4,
 "nbformat_minor": 2
}
