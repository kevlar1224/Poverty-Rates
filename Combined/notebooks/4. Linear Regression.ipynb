{
 "cells": [
  {
   "cell_type": "code",
   "execution_count": 1,
   "metadata": {},
   "outputs": [],
   "source": [
    "%matplotlib inline\n",
    "import matplotlib.pyplot as plt\n",
    "import numpy as np\n",
    "from sklearn.datasets import make_regression\n",
    "from sklearn.linear_model import LinearRegression\n",
    "from sklearn.preprocessing import StandardScaler\n",
    "import pandas as pd"
   ]
  },
  {
   "cell_type": "code",
   "execution_count": 2,
   "metadata": {},
   "outputs": [
    {
     "data": {
      "text/html": [
       "<div>\n",
       "<style scoped>\n",
       "    .dataframe tbody tr th:only-of-type {\n",
       "        vertical-align: middle;\n",
       "    }\n",
       "\n",
       "    .dataframe tbody tr th {\n",
       "        vertical-align: top;\n",
       "    }\n",
       "\n",
       "    .dataframe thead th {\n",
       "        text-align: right;\n",
       "    }\n",
       "</style>\n",
       "<table border=\"1\" class=\"dataframe\">\n",
       "  <thead>\n",
       "    <tr style=\"text-align: right;\">\n",
       "      <th></th>\n",
       "      <th>Race</th>\n",
       "      <th>HIV (non-AIDS) Rate</th>\n",
       "      <th>AIDS Rate</th>\n",
       "      <th>HIV/AIDS Rate</th>\n",
       "      <th>Infant Mortality Rate</th>\n",
       "      <th>Insurance Application Rate</th>\n",
       "      <th>Disease Rate per 100,000</th>\n",
       "      <th>Poverty Rate</th>\n",
       "    </tr>\n",
       "  </thead>\n",
       "  <tbody>\n",
       "    <tr>\n",
       "      <th>0</th>\n",
       "      <td>American Indian and/or Alaska Native</td>\n",
       "      <td>118.6</td>\n",
       "      <td>164.3</td>\n",
       "      <td>282.9</td>\n",
       "      <td>5.35</td>\n",
       "      <td>1.88</td>\n",
       "      <td>133.13</td>\n",
       "      <td>20.2</td>\n",
       "    </tr>\n",
       "    <tr>\n",
       "      <th>1</th>\n",
       "      <td>Asian</td>\n",
       "      <td>34.9</td>\n",
       "      <td>48.9</td>\n",
       "      <td>83.8</td>\n",
       "      <td>2.95</td>\n",
       "      <td>3.28</td>\n",
       "      <td>76.71</td>\n",
       "      <td>11.5</td>\n",
       "    </tr>\n",
       "    <tr>\n",
       "      <th>2</th>\n",
       "      <td>Black or African American</td>\n",
       "      <td>370.1</td>\n",
       "      <td>595.5</td>\n",
       "      <td>965.7</td>\n",
       "      <td>11.12</td>\n",
       "      <td>5.66</td>\n",
       "      <td>307.39</td>\n",
       "      <td>21.4</td>\n",
       "    </tr>\n",
       "    <tr>\n",
       "      <th>3</th>\n",
       "      <td>Hispanic</td>\n",
       "      <td>98.8</td>\n",
       "      <td>164.0</td>\n",
       "      <td>262.8</td>\n",
       "      <td>5.07</td>\n",
       "      <td>4.98</td>\n",
       "      <td>99.63</td>\n",
       "      <td>20.9</td>\n",
       "    </tr>\n",
       "    <tr>\n",
       "      <th>4</th>\n",
       "      <td>Mixed Race</td>\n",
       "      <td>79.2</td>\n",
       "      <td>97.0</td>\n",
       "      <td>176.1</td>\n",
       "      <td>10.94</td>\n",
       "      <td>3.09</td>\n",
       "      <td>79.17</td>\n",
       "      <td>13.2</td>\n",
       "    </tr>\n",
       "    <tr>\n",
       "      <th>5</th>\n",
       "      <td>White</td>\n",
       "      <td>136.3</td>\n",
       "      <td>208.3</td>\n",
       "      <td>344.5</td>\n",
       "      <td>4.26</td>\n",
       "      <td>3.71</td>\n",
       "      <td>93.82</td>\n",
       "      <td>8.0</td>\n",
       "    </tr>\n",
       "  </tbody>\n",
       "</table>\n",
       "</div>"
      ],
      "text/plain": [
       "                                   Race  HIV (non-AIDS) Rate  AIDS Rate  \\\n",
       "0  American Indian and/or Alaska Native                118.6      164.3   \n",
       "1                                 Asian                 34.9       48.9   \n",
       "2             Black or African American                370.1      595.5   \n",
       "3                              Hispanic                 98.8      164.0   \n",
       "4                            Mixed Race                 79.2       97.0   \n",
       "5                                 White                136.3      208.3   \n",
       "\n",
       "   HIV/AIDS Rate  Infant Mortality Rate  Insurance Application Rate  \\\n",
       "0          282.9                   5.35                        1.88   \n",
       "1           83.8                   2.95                        3.28   \n",
       "2          965.7                  11.12                        5.66   \n",
       "3          262.8                   5.07                        4.98   \n",
       "4          176.1                  10.94                        3.09   \n",
       "5          344.5                   4.26                        3.71   \n",
       "\n",
       "   Disease Rate per 100,000  Poverty Rate  \n",
       "0                    133.13          20.2  \n",
       "1                     76.71          11.5  \n",
       "2                    307.39          21.4  \n",
       "3                     99.63          20.9  \n",
       "4                     79.17          13.2  \n",
       "5                     93.82           8.0  "
      ]
     },
     "execution_count": 2,
     "metadata": {},
     "output_type": "execute_result"
    }
   ],
   "source": [
    "df = pd.read_csv(\"../data/combined.csv\")\n",
    "df"
   ]
  },
  {
   "cell_type": "code",
   "execution_count": 13,
   "metadata": {},
   "outputs": [],
   "source": [
    "races = df['Race'].values.tolist()\n",
    "predictions = [];\n",
    "\n",
    "for race in races:\n",
    "    X = df.loc[df['Race'] != race].iloc[:, [3, 4, 5, 6]].values\n",
    "    \n",
    "#     for array in X:\n",
    "#         array = array.reshape(-1, 1)\n",
    "\n",
    "    y = df.loc[df['Race'] != race]['Poverty Rate'].values.reshape(-1, 1)\n",
    "\n",
    "    X_scaler = StandardScaler().fit(X)\n",
    "    y_scaler = StandardScaler().fit(y)\n",
    "    \n",
    "    X_scaled = X_scaler.transform(X)\n",
    "    y_scaled = y_scaler.transform(y)\n",
    "    \n",
    "    model = LinearRegression()\n",
    "    model.fit(X_scaled, y_scaled)\n",
    "    \n",
    "    predictions.append(model.predict(df.loc[df['Race'] == race].iloc[:, [3, 4, 5, 6]].values))    "
   ]
  },
  {
   "cell_type": "code",
   "execution_count": 14,
   "metadata": {},
   "outputs": [
    {
     "data": {
      "text/plain": [
       "[array([[-398.48668457]]),\n",
       " array([[-22.56563202]]),\n",
       " array([[-383.23212219]]),\n",
       " array([[-77.29320153]]),\n",
       " array([[-662.68018772]]),\n",
       " array([[4132.0461712]])]"
      ]
     },
     "execution_count": 14,
     "metadata": {},
     "output_type": "execute_result"
    }
   ],
   "source": [
    "predictions"
   ]
  },
  {
   "cell_type": "code",
   "execution_count": 15,
   "metadata": {},
   "outputs": [
    {
     "data": {
      "text/plain": [
       "array([[ 0.83191588],\n",
       "       [-0.83831523],\n",
       "       [ 1.06229259],\n",
       "       [ 0.96630229],\n",
       "       [-0.51194823],\n",
       "       [-1.51024729]])"
      ]
     },
     "execution_count": 15,
     "metadata": {},
     "output_type": "execute_result"
    }
   ],
   "source": [
    "y = df['Poverty Rate'].values.reshape(-1, 1)\n",
    "\n",
    "y_scaler = StandardScaler().fit(y)\n",
    "y_scaled = y_scaler.transform(y)\n",
    "\n",
    "y_scaled"
   ]
  },
  {
   "cell_type": "code",
   "execution_count": 7,
   "metadata": {},
   "outputs": [
    {
     "data": {
      "text/plain": [
       "array([[-0.24344885, -0.39363064, -1.5142407 ,  0.01843319],\n",
       "       [-0.9385349 , -1.14043975, -0.39059919, -0.68033522],\n",
       "       [ 2.14030178,  1.40182294,  1.51959137,  2.17666399],\n",
       "       [-0.31362078, -0.48075837,  0.97382264, -0.3964683 ],\n",
       "       [-0.61630264,  1.34581226, -0.54309339, -0.64986783],\n",
       "       [-0.02839461, -0.73280644, -0.04548073, -0.46842584]])"
      ]
     },
     "execution_count": 7,
     "metadata": {},
     "output_type": "execute_result"
    }
   ],
   "source": [
    "X = df.iloc[:, [3, 4, 5, 6]].values\n",
    "\n",
    "y = df['Poverty Rate'].values.reshape(-1, 1)\n",
    "\n",
    "X_scaler = StandardScaler().fit(X)\n",
    "y_scaler = StandardScaler().fit(y)\n",
    "\n",
    "X_scaled = X_scaler.transform(X)\n",
    "y_scaled = y_scaler.transform(y)\n",
    "\n",
    "model = LinearRegression()\n",
    "model.fit(X_scaled, y_scaled)\n",
    "\n",
    "X_scaled"
   ]
  },
  {
   "cell_type": "code",
   "execution_count": 19,
   "metadata": {},
   "outputs": [
    {
     "data": {
      "text/plain": [
       "array([[282.9 ],\n",
       "       [  5.35],\n",
       "       [  1.88],\n",
       "       [133.13]])"
      ]
     },
     "execution_count": 19,
     "metadata": {},
     "output_type": "execute_result"
    }
   ],
   "source": [
    "X[0].reshape(-1,1)"
   ]
  },
  {
   "cell_type": "code",
   "execution_count": 17,
   "metadata": {},
   "outputs": [
    {
     "data": {
      "text/plain": [
       "array([[20.2],\n",
       "       [11.5],\n",
       "       [21.4],\n",
       "       [20.9],\n",
       "       [13.2],\n",
       "       [ 8. ]])"
      ]
     },
     "execution_count": 17,
     "metadata": {},
     "output_type": "execute_result"
    }
   ],
   "source": [
    "y"
   ]
  },
  {
   "cell_type": "code",
   "execution_count": 4,
   "metadata": {},
   "outputs": [
    {
     "data": {
      "text/plain": [
       "array([[-22.56563202]])"
      ]
     },
     "execution_count": 4,
     "metadata": {},
     "output_type": "execute_result"
    }
   ],
   "source": [
    "race = 'Asian'\n",
    "\n",
    "X = df.loc[df['Race'] != race].iloc[:, [3, 4, 5, 6]].values\n",
    "\n",
    "#     for array in X:\n",
    "#         array = array.reshape(-1, 1)\n",
    "\n",
    "y = df.loc[df['Race'] != race]['Poverty Rate'].values.reshape(-1, 1)\n",
    "\n",
    "X_scaler = StandardScaler().fit(X)\n",
    "y_scaler = StandardScaler().fit(y)\n",
    "\n",
    "X_scaled = X_scaler.transform(X)\n",
    "y_scaled = y_scaler.transform(y)\n",
    "\n",
    "model = LinearRegression()\n",
    "model.fit(X_scaled, y_scaled)\n",
    "\n",
    "model.predict(df.loc[df['Race'] == race].iloc[:, [3, 4, 5, 6]].values)"
   ]
  },
  {
   "cell_type": "code",
   "execution_count": 15,
   "metadata": {},
   "outputs": [
    {
     "data": {
      "text/plain": [
       "0.4855385507445113"
      ]
     },
     "execution_count": 15,
     "metadata": {},
     "output_type": "execute_result"
    }
   ],
   "source": [
    "np.corrcoef(df['Poverty Rate'], [df['HIV/AIDS Rate'], df['Infant Mortality Rate'], \n",
    "                                 df['Insurance Application Rate'], df['Disease Rate per 100,000']])[0][1]"
   ]
  },
  {
   "cell_type": "code",
   "execution_count": null,
   "metadata": {},
   "outputs": [],
   "source": []
  }
 ],
 "metadata": {
  "kernelspec": {
   "display_name": "Python 3",
   "language": "python",
   "name": "python3"
  },
  "language_info": {
   "codemirror_mode": {
    "name": "ipython",
    "version": 3
   },
   "file_extension": ".py",
   "mimetype": "text/x-python",
   "name": "python",
   "nbconvert_exporter": "python",
   "pygments_lexer": "ipython3",
   "version": "3.7.0"
  }
 },
 "nbformat": 4,
 "nbformat_minor": 2
}
