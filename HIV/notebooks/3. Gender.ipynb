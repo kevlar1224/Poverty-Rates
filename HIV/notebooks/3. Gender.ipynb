{
 "cells": [
  {
   "cell_type": "code",
   "execution_count": 1,
   "metadata": {},
   "outputs": [],
   "source": [
    "import pandas as pd\n",
    "import matplotlib.pyplot as plt\n",
    "import numpy as np"
   ]
  },
  {
   "cell_type": "code",
   "execution_count": 2,
   "metadata": {},
   "outputs": [
    {
     "data": {
      "text/html": [
       "<div>\n",
       "<style scoped>\n",
       "    .dataframe tbody tr th:only-of-type {\n",
       "        vertical-align: middle;\n",
       "    }\n",
       "\n",
       "    .dataframe tbody tr th {\n",
       "        vertical-align: top;\n",
       "    }\n",
       "\n",
       "    .dataframe thead th {\n",
       "        text-align: right;\n",
       "    }\n",
       "</style>\n",
       "<table border=\"1\" class=\"dataframe\">\n",
       "  <thead>\n",
       "    <tr style=\"text-align: right;\">\n",
       "      <th></th>\n",
       "      <th>Demographic Category</th>\n",
       "      <th>Demographic Type</th>\n",
       "      <th>HIV (non-AIDS) Count</th>\n",
       "      <th>HIV (non-AIDS) Category Percentage</th>\n",
       "      <th>HIV (non-AIDS) Population Rate</th>\n",
       "      <th>AIDS Count</th>\n",
       "      <th>AIDS Category Percentage</th>\n",
       "      <th>AIDS Population Rate</th>\n",
       "      <th>HIV/AIDS Count</th>\n",
       "      <th>HIV/AIDS Category Percentage</th>\n",
       "      <th>HIV/AIDS Population Rate</th>\n",
       "    </tr>\n",
       "  </thead>\n",
       "  <tbody>\n",
       "    <tr>\n",
       "      <th>0</th>\n",
       "      <td>Gender</td>\n",
       "      <td>Male</td>\n",
       "      <td>39585</td>\n",
       "      <td>86.7</td>\n",
       "      <td>210.3</td>\n",
       "      <td>62864</td>\n",
       "      <td>87.5</td>\n",
       "      <td>334.0</td>\n",
       "      <td>102449</td>\n",
       "      <td>87.2</td>\n",
       "      <td>544.3</td>\n",
       "    </tr>\n",
       "    <tr>\n",
       "      <th>1</th>\n",
       "      <td>Gender</td>\n",
       "      <td>Female</td>\n",
       "      <td>5525</td>\n",
       "      <td>12.1</td>\n",
       "      <td>29.1</td>\n",
       "      <td>8091</td>\n",
       "      <td>11.3</td>\n",
       "      <td>42.6</td>\n",
       "      <td>13616</td>\n",
       "      <td>11.6</td>\n",
       "      <td>71.6</td>\n",
       "    </tr>\n",
       "    <tr>\n",
       "      <th>2</th>\n",
       "      <td>Gender</td>\n",
       "      <td>Transgender: Male To Female</td>\n",
       "      <td>482</td>\n",
       "      <td>1.1</td>\n",
       "      <td>NaN</td>\n",
       "      <td>104</td>\n",
       "      <td>0.1</td>\n",
       "      <td>NaN</td>\n",
       "      <td>182</td>\n",
       "      <td>0.2</td>\n",
       "      <td>NaN</td>\n",
       "    </tr>\n",
       "    <tr>\n",
       "      <th>3</th>\n",
       "      <td>Gender</td>\n",
       "      <td>Transgender: Female To Male</td>\n",
       "      <td>78</td>\n",
       "      <td>0.2</td>\n",
       "      <td>NaN</td>\n",
       "      <td>824</td>\n",
       "      <td>1.2</td>\n",
       "      <td>NaN</td>\n",
       "      <td>1306</td>\n",
       "      <td>1.1</td>\n",
       "      <td>NaN</td>\n",
       "    </tr>\n",
       "    <tr>\n",
       "      <th>4</th>\n",
       "      <td>Race/Ethnicity</td>\n",
       "      <td>Hispanic</td>\n",
       "      <td>14324</td>\n",
       "      <td>31.4</td>\n",
       "      <td>98.8</td>\n",
       "      <td>23781</td>\n",
       "      <td>33.1</td>\n",
       "      <td>164.0</td>\n",
       "      <td>38105</td>\n",
       "      <td>32.4</td>\n",
       "      <td>262.8</td>\n",
       "    </tr>\n",
       "  </tbody>\n",
       "</table>\n",
       "</div>"
      ],
      "text/plain": [
       "  Demographic Category             Demographic Type  HIV (non-AIDS) Count  \\\n",
       "0               Gender                         Male                 39585   \n",
       "1               Gender                       Female                  5525   \n",
       "2               Gender  Transgender: Male To Female                   482   \n",
       "3               Gender  Transgender: Female To Male                    78   \n",
       "4       Race/Ethnicity                     Hispanic                 14324   \n",
       "\n",
       "   HIV (non-AIDS) Category Percentage  HIV (non-AIDS) Population Rate  \\\n",
       "0                                86.7                           210.3   \n",
       "1                                12.1                            29.1   \n",
       "2                                 1.1                             NaN   \n",
       "3                                 0.2                             NaN   \n",
       "4                                31.4                            98.8   \n",
       "\n",
       "   AIDS Count  AIDS Category Percentage  AIDS Population Rate  HIV/AIDS Count  \\\n",
       "0       62864                      87.5                 334.0          102449   \n",
       "1        8091                      11.3                  42.6           13616   \n",
       "2         104                       0.1                   NaN             182   \n",
       "3         824                       1.2                   NaN            1306   \n",
       "4       23781                      33.1                 164.0           38105   \n",
       "\n",
       "   HIV/AIDS Category Percentage  HIV/AIDS Population Rate  \n",
       "0                          87.2                     544.3  \n",
       "1                          11.6                      71.6  \n",
       "2                           0.2                       NaN  \n",
       "3                           1.1                       NaN  \n",
       "4                          32.4                     262.8  "
      ]
     },
     "execution_count": 2,
     "metadata": {},
     "output_type": "execute_result"
    }
   ],
   "source": [
    "hiv_df = pd.read_csv(\"../data/hiv.csv\")\n",
    "hiv_df.head()"
   ]
  },
  {
   "cell_type": "code",
   "execution_count": 3,
   "metadata": {},
   "outputs": [
    {
     "data": {
      "text/html": [
       "<div>\n",
       "<style scoped>\n",
       "    .dataframe tbody tr th:only-of-type {\n",
       "        vertical-align: middle;\n",
       "    }\n",
       "\n",
       "    .dataframe tbody tr th {\n",
       "        vertical-align: top;\n",
       "    }\n",
       "\n",
       "    .dataframe thead th {\n",
       "        text-align: right;\n",
       "    }\n",
       "</style>\n",
       "<table border=\"1\" class=\"dataframe\">\n",
       "  <thead>\n",
       "    <tr style=\"text-align: right;\">\n",
       "      <th></th>\n",
       "      <th>Demographic Category</th>\n",
       "      <th>Demographic Type</th>\n",
       "      <th>HIV (non-AIDS) Count</th>\n",
       "      <th>HIV (non-AIDS) Category Percentage</th>\n",
       "      <th>HIV (non-AIDS) Population Rate</th>\n",
       "      <th>AIDS Count</th>\n",
       "      <th>AIDS Category Percentage</th>\n",
       "      <th>AIDS Population Rate</th>\n",
       "      <th>HIV/AIDS Count</th>\n",
       "      <th>HIV/AIDS Category Percentage</th>\n",
       "      <th>HIV/AIDS Population Rate</th>\n",
       "    </tr>\n",
       "  </thead>\n",
       "  <tbody>\n",
       "    <tr>\n",
       "      <th>0</th>\n",
       "      <td>Gender</td>\n",
       "      <td>Male</td>\n",
       "      <td>39585</td>\n",
       "      <td>86.7</td>\n",
       "      <td>210.3</td>\n",
       "      <td>62864</td>\n",
       "      <td>87.5</td>\n",
       "      <td>334.0</td>\n",
       "      <td>102449</td>\n",
       "      <td>87.2</td>\n",
       "      <td>544.3</td>\n",
       "    </tr>\n",
       "    <tr>\n",
       "      <th>1</th>\n",
       "      <td>Gender</td>\n",
       "      <td>Female</td>\n",
       "      <td>5525</td>\n",
       "      <td>12.1</td>\n",
       "      <td>29.1</td>\n",
       "      <td>8091</td>\n",
       "      <td>11.3</td>\n",
       "      <td>42.6</td>\n",
       "      <td>13616</td>\n",
       "      <td>11.6</td>\n",
       "      <td>71.6</td>\n",
       "    </tr>\n",
       "  </tbody>\n",
       "</table>\n",
       "</div>"
      ],
      "text/plain": [
       "  Demographic Category Demographic Type  HIV (non-AIDS) Count  \\\n",
       "0               Gender             Male                 39585   \n",
       "1               Gender           Female                  5525   \n",
       "\n",
       "   HIV (non-AIDS) Category Percentage  HIV (non-AIDS) Population Rate  \\\n",
       "0                                86.7                           210.3   \n",
       "1                                12.1                            29.1   \n",
       "\n",
       "   AIDS Count  AIDS Category Percentage  AIDS Population Rate  HIV/AIDS Count  \\\n",
       "0       62864                      87.5                 334.0          102449   \n",
       "1        8091                      11.3                  42.6           13616   \n",
       "\n",
       "   HIV/AIDS Category Percentage  HIV/AIDS Population Rate  \n",
       "0                          87.2                     544.3  \n",
       "1                          11.6                      71.6  "
      ]
     },
     "execution_count": 3,
     "metadata": {},
     "output_type": "execute_result"
    }
   ],
   "source": [
    "gender_df = hiv_df.loc[hiv_df['Demographic Category'] == \"Gender\"]\n",
    "gender_df = gender_df.dropna()\n",
    "gender_df"
   ]
  },
  {
   "cell_type": "code",
   "execution_count": 4,
   "metadata": {},
   "outputs": [
    {
     "data": {
      "image/png": "[encoded data removed]",
      "text/plain": [
       "<Figure size 432x288 with 1 Axes>"
      ]
     },
     "metadata": {
      "needs_background": "light"
     },
     "output_type": "display_data"
    }
   ],
   "source": [
    "plt.bar(gender_df['Demographic Type'], gender_df['HIV/AIDS Population Rate'])\n",
    "plt.show()"
   ]
  },
  {
   "cell_type": "code",
   "execution_count": 6,
   "metadata": {},
   "outputs": [
    {
     "data": {
      "image/png": "[encoded data removed]",
      "text/plain": [
       "<Figure size 432x288 with 1 Axes>"
      ]
     },
     "metadata": {
      "needs_background": "light"
     },
     "output_type": "display_data"
    }
   ],
   "source": [
    "traces = ['HIV (non-AIDS) Population Rate', 'AIDS Population Rate']\n",
    "x_cats = gender_df['Demographic Type']\n",
    "x_values = np.arange(len(x_cats))\n",
    "\n",
    "for i in range(len(traces)):\n",
    "    plt.bar(x_values+.2*(i-.5), gender_df[traces[i]], width=.2)\n",
    "\n",
    "plt.xticks(x_values, x_cats)\n",
    "plt.show()"
   ]
  },
  {
   "cell_type": "code",
   "execution_count": 7,
   "metadata": {},
   "outputs": [],
   "source": [
    "gender_df = gender_df.drop(gender_df.iloc[:, [0, 2, 3, 5, 6, 8, 9]], axis=1)\n",
    "gender_df.to_csv(\"../data/cleaned/gender.csv\", index=False)"
   ]
  },
  {
   "cell_type": "code",
   "execution_count": null,
   "metadata": {},
   "outputs": [],
   "source": []
  }
 ],
 "metadata": {
  "kernelspec": {
   "display_name": "Python 3",
   "language": "python",
   "name": "python3"
  },
  "language_info": {
   "codemirror_mode": {
    "name": "ipython",
    "version": 3
   },
   "file_extension": ".py",
   "mimetype": "text/x-python",
   "name": "python",
   "nbconvert_exporter": "python",
   "pygments_lexer": "ipython3",
   "version": "3.7.0"
  }
 },
 "nbformat": 4,
 "nbformat_minor": 2
}
