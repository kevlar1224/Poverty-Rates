{
 "cells": [
  {
   "cell_type": "code",
   "execution_count": 1,
   "metadata": {},
   "outputs": [],
   "source": [
    "import pandas as pd\n",
    "import matplotlib.pyplot as plt\n",
    "import numpy as np\n",
    "\n",
    "pd.set_option(\"display.max_rows\", 5000)\n",
    "pd.set_option(\"display.max_columns\", 30)"
   ]
  },
  {
   "cell_type": "code",
   "execution_count": 2,
   "metadata": {},
   "outputs": [
    {
     "data": {
      "text/html": [
       "<div>\n",
       "<style scoped>\n",
       "    .dataframe tbody tr th:only-of-type {\n",
       "        vertical-align: middle;\n",
       "    }\n",
       "\n",
       "    .dataframe tbody tr th {\n",
       "        vertical-align: top;\n",
       "    }\n",
       "\n",
       "    .dataframe thead th {\n",
       "        text-align: right;\n",
       "    }\n",
       "</style>\n",
       "<table border=\"1\" class=\"dataframe\">\n",
       "  <thead>\n",
       "    <tr style=\"text-align: right;\">\n",
       "      <th></th>\n",
       "      <th>Race/Ethnicity</th>\n",
       "      <th>Case Count</th>\n",
       "      <th>Disorder Type</th>\n",
       "      <th>Screened Count</th>\n",
       "      <th>Rate per 100,000</th>\n",
       "    </tr>\n",
       "  </thead>\n",
       "  <tbody>\n",
       "    <tr>\n",
       "      <th>0</th>\n",
       "      <td>American Indian</td>\n",
       "      <td>15</td>\n",
       "      <td>Other Rare Disorders</td>\n",
       "      <td>32300</td>\n",
       "      <td>46.44</td>\n",
       "    </tr>\n",
       "    <tr>\n",
       "      <th>1</th>\n",
       "      <td>American Indian</td>\n",
       "      <td>20</td>\n",
       "      <td>Hypothyroidism, Primary Congenital (PCH)</td>\n",
       "      <td>32300</td>\n",
       "      <td>61.92</td>\n",
       "    </tr>\n",
       "    <tr>\n",
       "      <th>2</th>\n",
       "      <td>Asian Indian</td>\n",
       "      <td>26</td>\n",
       "      <td>Other Rare Disorders</td>\n",
       "      <td>68559</td>\n",
       "      <td>37.92</td>\n",
       "    </tr>\n",
       "    <tr>\n",
       "      <th>3</th>\n",
       "      <td>Asian Indian</td>\n",
       "      <td>70</td>\n",
       "      <td>Hypothyroidism, Primary Congenital (PCH)</td>\n",
       "      <td>68559</td>\n",
       "      <td>102.10</td>\n",
       "    </tr>\n",
       "    <tr>\n",
       "      <th>4</th>\n",
       "      <td>Black</td>\n",
       "      <td>26</td>\n",
       "      <td>Other Rare Disorders</td>\n",
       "      <td>181203</td>\n",
       "      <td>14.35</td>\n",
       "    </tr>\n",
       "  </tbody>\n",
       "</table>\n",
       "</div>"
      ],
      "text/plain": [
       "    Race/Ethnicity  Case Count                             Disorder Type  \\\n",
       "0  American Indian          15                      Other Rare Disorders   \n",
       "1  American Indian          20  Hypothyroidism, Primary Congenital (PCH)   \n",
       "2     Asian Indian          26                      Other Rare Disorders   \n",
       "3     Asian Indian          70  Hypothyroidism, Primary Congenital (PCH)   \n",
       "4            Black          26                      Other Rare Disorders   \n",
       "\n",
       "   Screened Count  Rate per 100,000  \n",
       "0           32300             46.44  \n",
       "1           32300             61.92  \n",
       "2           68559             37.92  \n",
       "3           68559            102.10  \n",
       "4          181203             14.35  "
      ]
     },
     "execution_count": 2,
     "metadata": {},
     "output_type": "execute_result"
    }
   ],
   "source": [
    "base_df = pd.read_csv(\"../data/newborn-diseases.csv\")\n",
    "base_df.head()"
   ]
  },
  {
   "cell_type": "code",
   "execution_count": 3,
   "metadata": {},
   "outputs": [],
   "source": [
    "race_list = [\"White\", \"Black or African American\", \"American Indian and/or Alaska Native\", \"Asian\",\n",
    "         \"Hispanic or Latino\", \"Mixed Race\", 'Other', 'Not Reported']\n",
    "\n",
    "races_dict = {'American Indian': \"American Indian and/or Alaska Native\",\n",
    "        'Asian Indian': \"Asian\", 'Chinese/Japanese/Korean': \"Asian\", \n",
    "        'Filipino/Laotian/Vietnamese/Cambodian/Other SouthEast Asian': \"Asian\",\n",
    "        'Middle Eastern': \"Asian\", 'Black': \"Black or African American\",\n",
    "        'Hispanic': \"Hispanic or Latino\", 'Multiple': 'Mixed Race',\n",
    "        'White': 'White', 'Other': 'Other', 'Unknown': 'Not Reported'}"
   ]
  },
  {
   "cell_type": "code",
   "execution_count": 4,
   "metadata": {},
   "outputs": [
    {
     "data": {
      "text/html": [
       "<div>\n",
       "<style scoped>\n",
       "    .dataframe tbody tr th:only-of-type {\n",
       "        vertical-align: middle;\n",
       "    }\n",
       "\n",
       "    .dataframe tbody tr th {\n",
       "        vertical-align: top;\n",
       "    }\n",
       "\n",
       "    .dataframe thead th {\n",
       "        text-align: right;\n",
       "    }\n",
       "</style>\n",
       "<table border=\"1\" class=\"dataframe\">\n",
       "  <thead>\n",
       "    <tr style=\"text-align: right;\">\n",
       "      <th></th>\n",
       "      <th>Race/Ethnicity</th>\n",
       "      <th>Case Count</th>\n",
       "      <th>Screened Count</th>\n",
       "      <th>Rate per 100,000</th>\n",
       "    </tr>\n",
       "  </thead>\n",
       "  <tbody>\n",
       "    <tr>\n",
       "      <th>0</th>\n",
       "      <td>American Indian and/or Alaska Native</td>\n",
       "      <td>43</td>\n",
       "      <td>32300.0</td>\n",
       "      <td>133.13</td>\n",
       "    </tr>\n",
       "    <tr>\n",
       "      <th>1</th>\n",
       "      <td>Asian</td>\n",
       "      <td>319</td>\n",
       "      <td>415866.0</td>\n",
       "      <td>76.71</td>\n",
       "    </tr>\n",
       "    <tr>\n",
       "      <th>2</th>\n",
       "      <td>Black or African American</td>\n",
       "      <td>557</td>\n",
       "      <td>181203.0</td>\n",
       "      <td>307.39</td>\n",
       "    </tr>\n",
       "    <tr>\n",
       "      <th>3</th>\n",
       "      <td>Hispanic or Latino</td>\n",
       "      <td>1674</td>\n",
       "      <td>1680138.0</td>\n",
       "      <td>99.63</td>\n",
       "    </tr>\n",
       "    <tr>\n",
       "      <th>4</th>\n",
       "      <td>Mixed Race</td>\n",
       "      <td>170</td>\n",
       "      <td>214735.0</td>\n",
       "      <td>79.17</td>\n",
       "    </tr>\n",
       "    <tr>\n",
       "      <th>5</th>\n",
       "      <td>Not Reported</td>\n",
       "      <td>26</td>\n",
       "      <td>29908.0</td>\n",
       "      <td>86.93</td>\n",
       "    </tr>\n",
       "    <tr>\n",
       "      <th>6</th>\n",
       "      <td>Other</td>\n",
       "      <td>66</td>\n",
       "      <td>57677.0</td>\n",
       "      <td>114.43</td>\n",
       "    </tr>\n",
       "    <tr>\n",
       "      <th>7</th>\n",
       "      <td>White</td>\n",
       "      <td>822</td>\n",
       "      <td>876179.0</td>\n",
       "      <td>93.82</td>\n",
       "    </tr>\n",
       "  </tbody>\n",
       "</table>\n",
       "</div>"
      ],
      "text/plain": [
       "                         Race/Ethnicity  Case Count  Screened Count  \\\n",
       "0  American Indian and/or Alaska Native          43         32300.0   \n",
       "1                                 Asian         319        415866.0   \n",
       "2             Black or African American         557        181203.0   \n",
       "3                    Hispanic or Latino        1674       1680138.0   \n",
       "4                            Mixed Race         170        214735.0   \n",
       "5                          Not Reported          26         29908.0   \n",
       "6                                 Other          66         57677.0   \n",
       "7                                 White         822        876179.0   \n",
       "\n",
       "   Rate per 100,000  \n",
       "0            133.13  \n",
       "1             76.71  \n",
       "2            307.39  \n",
       "3             99.63  \n",
       "4             79.17  \n",
       "5             86.93  \n",
       "6            114.43  \n",
       "7             93.82  "
      ]
     },
     "execution_count": 4,
     "metadata": {},
     "output_type": "execute_result"
    }
   ],
   "source": [
    "race_df = base_df.groupby(\"Race/Ethnicity\", as_index=False).sum()\n",
    "race_df['Screened Count'] = base_df.groupby(\"Race/Ethnicity\", as_index=False).mean()['Screened Count']\n",
    "\n",
    "for x in range(len(race_df)):\n",
    "    race = race_df.iloc[x, 0]\n",
    "    race_df.iloc[x, 0] = races_dict[race]\n",
    "\n",
    "grouped_race = race_df.groupby(\"Race/Ethnicity\", as_index = False).sum()\n",
    "grouped_race['Rate per 100,000'] = round(grouped_race['Case Count']*100000/grouped_race['Screened Count'], 2)\n",
    "grouped_race"
   ]
  },
  {
   "cell_type": "code",
   "execution_count": 16,
   "metadata": {
    "scrolled": false
   },
   "outputs": [
    {
     "data": {
      "image/png": "[encoded data removed]",
      "text/plain": [
       "<Figure size 432x288 with 1 Axes>"
      ]
     },
     "metadata": {
      "needs_background": "light"
     },
     "output_type": "display_data"
    }
   ],
   "source": [
    "plt.bar(grouped_race['Race/Ethnicity'], grouped_race['Rate per 100,000'])\n",
    "plt.xticks(rotation=90)\n",
    "plt.savefig('../images/bar.png')\n",
    "plt.show()"
   ]
  },
  {
   "cell_type": "code",
   "execution_count": 6,
   "metadata": {},
   "outputs": [
    {
     "data": {
      "text/html": [
       "<div>\n",
       "<style scoped>\n",
       "    .dataframe tbody tr th:only-of-type {\n",
       "        vertical-align: middle;\n",
       "    }\n",
       "\n",
       "    .dataframe tbody tr th {\n",
       "        vertical-align: top;\n",
       "    }\n",
       "\n",
       "    .dataframe thead th {\n",
       "        text-align: right;\n",
       "    }\n",
       "</style>\n",
       "<table border=\"1\" class=\"dataframe\">\n",
       "  <thead>\n",
       "    <tr style=\"text-align: right;\">\n",
       "      <th></th>\n",
       "      <th>Race/Ethnicity</th>\n",
       "      <th>Case Count</th>\n",
       "      <th>Screened Count</th>\n",
       "      <th>Rate per 100,000</th>\n",
       "    </tr>\n",
       "  </thead>\n",
       "  <tbody>\n",
       "    <tr>\n",
       "      <th>5</th>\n",
       "      <td>Not Reported</td>\n",
       "      <td>26</td>\n",
       "      <td>29908.0</td>\n",
       "      <td>86.93</td>\n",
       "    </tr>\n",
       "    <tr>\n",
       "      <th>0</th>\n",
       "      <td>American Indian and/or Alaska Native</td>\n",
       "      <td>43</td>\n",
       "      <td>32300.0</td>\n",
       "      <td>133.13</td>\n",
       "    </tr>\n",
       "    <tr>\n",
       "      <th>6</th>\n",
       "      <td>Other</td>\n",
       "      <td>66</td>\n",
       "      <td>57677.0</td>\n",
       "      <td>114.43</td>\n",
       "    </tr>\n",
       "    <tr>\n",
       "      <th>4</th>\n",
       "      <td>Mixed Race</td>\n",
       "      <td>170</td>\n",
       "      <td>214735.0</td>\n",
       "      <td>79.17</td>\n",
       "    </tr>\n",
       "    <tr>\n",
       "      <th>1</th>\n",
       "      <td>Asian</td>\n",
       "      <td>319</td>\n",
       "      <td>415866.0</td>\n",
       "      <td>76.71</td>\n",
       "    </tr>\n",
       "    <tr>\n",
       "      <th>2</th>\n",
       "      <td>Black or African American</td>\n",
       "      <td>557</td>\n",
       "      <td>181203.0</td>\n",
       "      <td>307.39</td>\n",
       "    </tr>\n",
       "    <tr>\n",
       "      <th>7</th>\n",
       "      <td>White</td>\n",
       "      <td>822</td>\n",
       "      <td>876179.0</td>\n",
       "      <td>93.82</td>\n",
       "    </tr>\n",
       "    <tr>\n",
       "      <th>3</th>\n",
       "      <td>Hispanic or Latino</td>\n",
       "      <td>1674</td>\n",
       "      <td>1680138.0</td>\n",
       "      <td>99.63</td>\n",
       "    </tr>\n",
       "  </tbody>\n",
       "</table>\n",
       "</div>"
      ],
      "text/plain": [
       "                         Race/Ethnicity  Case Count  Screened Count  \\\n",
       "5                          Not Reported          26         29908.0   \n",
       "0  American Indian and/or Alaska Native          43         32300.0   \n",
       "6                                 Other          66         57677.0   \n",
       "4                            Mixed Race         170        214735.0   \n",
       "1                                 Asian         319        415866.0   \n",
       "2             Black or African American         557        181203.0   \n",
       "7                                 White         822        876179.0   \n",
       "3                    Hispanic or Latino        1674       1680138.0   \n",
       "\n",
       "   Rate per 100,000  \n",
       "5             86.93  \n",
       "0            133.13  \n",
       "6            114.43  \n",
       "4             79.17  \n",
       "1             76.71  \n",
       "2            307.39  \n",
       "7             93.82  \n",
       "3             99.63  "
      ]
     },
     "execution_count": 6,
     "metadata": {},
     "output_type": "execute_result"
    }
   ],
   "source": [
    "sorted_df = grouped_race.sort_values(\"Case Count\")\n",
    "sorted_df"
   ]
  },
  {
   "cell_type": "code",
   "execution_count": 12,
   "metadata": {},
   "outputs": [
    {
     "data": {
      "image/png": "[encoded data removed]",
      "text/plain": [
       "<Figure size 432x288 with 1 Axes>"
      ]
     },
     "metadata": {},
     "output_type": "display_data"
    },
    {
     "data": {
      "text/plain": [
       "<Figure size 432x288 with 0 Axes>"
      ]
     },
     "metadata": {},
     "output_type": "display_data"
    }
   ],
   "source": [
    "def my_autopct(pct):\n",
    "    return ('%.2f' % pct) if pct > 3 else ''\n",
    "\n",
    "plt.pie(sorted_df['Case Count'], labels=['Other', '', ''] + sorted_df['Race/Ethnicity'][3:].tolist(), \n",
    "        autopct=my_autopct, startangle=140)\n",
    "plt.axis('equal')\n",
    "plt.show()\n",
    "plt.savefig('../images/pie.png')"
   ]
  },
  {
   "cell_type": "code",
   "execution_count": null,
   "metadata": {},
   "outputs": [],
   "source": [
    "grouped_race.to_csv(\"../data/cleaned/groupedRace.csv\", index=False)"
   ]
  },
  {
   "cell_type": "code",
   "execution_count": null,
   "metadata": {},
   "outputs": [],
   "source": []
  }
 ],
 "metadata": {
  "kernelspec": {
   "display_name": "Python 3",
   "language": "python",
   "name": "python3"
  },
  "language_info": {
   "codemirror_mode": {
    "name": "ipython",
    "version": 3
   },
   "file_extension": ".py",
   "mimetype": "text/x-python",
   "name": "python",
   "nbconvert_exporter": "python",
   "pygments_lexer": "ipython3",
   "version": "3.7.0"
  }
 },
 "nbformat": 4,
 "nbformat_minor": 2
}
