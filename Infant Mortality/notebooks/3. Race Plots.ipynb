{
 "cells": [
  {
   "cell_type": "code",
   "execution_count": 1,
   "metadata": {},
   "outputs": [],
   "source": [
    "import pandas as pd\n",
    "import matplotlib.pyplot as plt\n",
    "import numpy as np"
   ]
  },
  {
   "cell_type": "code",
   "execution_count": 2,
   "metadata": {},
   "outputs": [
    {
     "data": {
      "text/html": [
       "<div>\n",
       "<style scoped>\n",
       "    .dataframe tbody tr th:only-of-type {\n",
       "        vertical-align: middle;\n",
       "    }\n",
       "\n",
       "    .dataframe tbody tr th {\n",
       "        vertical-align: top;\n",
       "    }\n",
       "\n",
       "    .dataframe thead th {\n",
       "        text-align: right;\n",
       "    }\n",
       "</style>\n",
       "<table border=\"1\" class=\"dataframe\">\n",
       "  <thead>\n",
       "    <tr style=\"text-align: right;\">\n",
       "      <th></th>\n",
       "      <th>Race</th>\n",
       "      <th>Gender</th>\n",
       "      <th>Count</th>\n",
       "      <th>Total Live Births</th>\n",
       "      <th>Rate</th>\n",
       "    </tr>\n",
       "  </thead>\n",
       "  <tbody>\n",
       "    <tr>\n",
       "      <th>0</th>\n",
       "      <td>American Indian</td>\n",
       "      <td>Female</td>\n",
       "      <td>49</td>\n",
       "      <td>9595</td>\n",
       "      <td>5.11</td>\n",
       "    </tr>\n",
       "    <tr>\n",
       "      <th>1</th>\n",
       "      <td>American Indian</td>\n",
       "      <td>Male</td>\n",
       "      <td>56</td>\n",
       "      <td>10032</td>\n",
       "      <td>5.58</td>\n",
       "    </tr>\n",
       "    <tr>\n",
       "      <th>2</th>\n",
       "      <td>Asian</td>\n",
       "      <td>Female</td>\n",
       "      <td>836</td>\n",
       "      <td>309001</td>\n",
       "      <td>2.71</td>\n",
       "    </tr>\n",
       "    <tr>\n",
       "      <th>3</th>\n",
       "      <td>Asian</td>\n",
       "      <td>Male</td>\n",
       "      <td>1051</td>\n",
       "      <td>330943</td>\n",
       "      <td>3.18</td>\n",
       "    </tr>\n",
       "    <tr>\n",
       "      <th>4</th>\n",
       "      <td>Black</td>\n",
       "      <td>Female</td>\n",
       "      <td>1311</td>\n",
       "      <td>138450</td>\n",
       "      <td>9.47</td>\n",
       "    </tr>\n",
       "  </tbody>\n",
       "</table>\n",
       "</div>"
      ],
      "text/plain": [
       "              Race  Gender  Count  Total Live Births  Rate\n",
       "0  American Indian  Female     49               9595  5.11\n",
       "1  American Indian    Male     56              10032  5.58\n",
       "2            Asian  Female    836             309001  2.71\n",
       "3            Asian    Male   1051             330943  3.18\n",
       "4            Black  Female   1311             138450  9.47"
      ]
     },
     "execution_count": 2,
     "metadata": {},
     "output_type": "execute_result"
    }
   ],
   "source": [
    "gender_race = pd.read_csv(\"../data/race/gender.csv\")\n",
    "gender_race.head()"
   ]
  },
  {
   "cell_type": "code",
   "execution_count": 3,
   "metadata": {},
   "outputs": [],
   "source": [
    "race_list = gender_race.groupby(\"Race\").count()['Gender'].keys().tolist()"
   ]
  },
  {
   "cell_type": "code",
   "execution_count": 4,
   "metadata": {},
   "outputs": [
    {
     "data": {
      "image/png": "[encoded data removed]",
      "text/plain": [
       "<Figure size 432x288 with 1 Axes>"
      ]
     },
     "metadata": {
      "needs_background": "light"
     },
     "output_type": "display_data"
    }
   ],
   "source": [
    "gender = ['Female', 'Male']\n",
    "colors = ['orange', 'green']\n",
    "x_cats = race_list\n",
    "x_values = np.arange(len(x_cats))\n",
    "\n",
    "plots = plt.subplot()\n",
    "\n",
    "for i in range(len(gender)):\n",
    "    selected_factor = gender_race.loc[gender_race['Gender'] == gender[i]]\n",
    "    plt.bar(x_values+i*.2, selected_factor['Rate'], width=.2, color=colors[i])\n",
    "\n",
    "plt.xticks(x_values, x_cats, rotation=80)\n",
    "plt.legend(gender)\n",
    "plt.show()"
   ]
  },
  {
   "cell_type": "code",
   "execution_count": 5,
   "metadata": {},
   "outputs": [
    {
     "data": {
      "text/html": [
       "<div>\n",
       "<style scoped>\n",
       "    .dataframe tbody tr th:only-of-type {\n",
       "        vertical-align: middle;\n",
       "    }\n",
       "\n",
       "    .dataframe tbody tr th {\n",
       "        vertical-align: top;\n",
       "    }\n",
       "\n",
       "    .dataframe thead th {\n",
       "        text-align: right;\n",
       "    }\n",
       "</style>\n",
       "<table border=\"1\" class=\"dataframe\">\n",
       "  <thead>\n",
       "    <tr style=\"text-align: right;\">\n",
       "      <th></th>\n",
       "      <th>Race</th>\n",
       "      <th>Age at death</th>\n",
       "      <th>Count</th>\n",
       "      <th>Total Live Births</th>\n",
       "      <th>Rate</th>\n",
       "    </tr>\n",
       "  </thead>\n",
       "  <tbody>\n",
       "    <tr>\n",
       "      <th>0</th>\n",
       "      <td>American Indian</td>\n",
       "      <td>Neonatal</td>\n",
       "      <td>60</td>\n",
       "      <td>19627</td>\n",
       "      <td>3.06</td>\n",
       "    </tr>\n",
       "    <tr>\n",
       "      <th>1</th>\n",
       "      <td>American Indian</td>\n",
       "      <td>PostNeonatal</td>\n",
       "      <td>45</td>\n",
       "      <td>19627</td>\n",
       "      <td>2.29</td>\n",
       "    </tr>\n",
       "    <tr>\n",
       "      <th>2</th>\n",
       "      <td>Asian</td>\n",
       "      <td>Neonatal</td>\n",
       "      <td>1308</td>\n",
       "      <td>639944</td>\n",
       "      <td>2.04</td>\n",
       "    </tr>\n",
       "    <tr>\n",
       "      <th>3</th>\n",
       "      <td>Asian</td>\n",
       "      <td>PostNeonatal</td>\n",
       "      <td>579</td>\n",
       "      <td>639944</td>\n",
       "      <td>0.90</td>\n",
       "    </tr>\n",
       "    <tr>\n",
       "      <th>4</th>\n",
       "      <td>Black</td>\n",
       "      <td>Neonatal</td>\n",
       "      <td>2007</td>\n",
       "      <td>282125</td>\n",
       "      <td>7.11</td>\n",
       "    </tr>\n",
       "  </tbody>\n",
       "</table>\n",
       "</div>"
      ],
      "text/plain": [
       "              Race  Age at death  Count  Total Live Births  Rate\n",
       "0  American Indian      Neonatal     60              19627  3.06\n",
       "1  American Indian  PostNeonatal     45              19627  2.29\n",
       "2            Asian      Neonatal   1308             639944  2.04\n",
       "3            Asian  PostNeonatal    579             639944  0.90\n",
       "4            Black      Neonatal   2007             282125  7.11"
      ]
     },
     "execution_count": 5,
     "metadata": {},
     "output_type": "execute_result"
    }
   ],
   "source": [
    "age_race = pd.read_csv(\"../data/race/age.csv\")\n",
    "age_race.head()"
   ]
  },
  {
   "cell_type": "code",
   "execution_count": 6,
   "metadata": {},
   "outputs": [
    {
     "data": {
      "image/png": "[encoded data removed]",
      "text/plain": [
       "<Figure size 432x288 with 1 Axes>"
      ]
     },
     "metadata": {
      "needs_background": "light"
     },
     "output_type": "display_data"
    }
   ],
   "source": [
    "age = ['Neonatal', 'PostNeonatal']\n",
    "colors = ['orange', 'green']\n",
    "x_cats = race_list\n",
    "x_values = np.arange(len(x_cats))\n",
    "\n",
    "plots = plt.subplot()\n",
    "\n",
    "for i in range(len(age)):\n",
    "    selected_factor = age_race.loc[age_race['Age at death'] == age[i]]\n",
    "    plt.bar(x_values+i*.2, selected_factor['Rate'], width=.2, color=colors[i])\n",
    "\n",
    "plt.xticks(x_values, x_cats, rotation=80)\n",
    "plt.legend(age)\n",
    "plt.show()"
   ]
  },
  {
   "cell_type": "code",
   "execution_count": 12,
   "metadata": {},
   "outputs": [
    {
     "data": {
      "text/html": [
       "<div>\n",
       "<style scoped>\n",
       "    .dataframe tbody tr th:only-of-type {\n",
       "        vertical-align: middle;\n",
       "    }\n",
       "\n",
       "    .dataframe tbody tr th {\n",
       "        vertical-align: top;\n",
       "    }\n",
       "\n",
       "    .dataframe thead th {\n",
       "        text-align: right;\n",
       "    }\n",
       "</style>\n",
       "<table border=\"1\" class=\"dataframe\">\n",
       "  <thead>\n",
       "    <tr style=\"text-align: right;\">\n",
       "      <th></th>\n",
       "      <th>Race</th>\n",
       "      <th>Count</th>\n",
       "      <th>Total Live Births</th>\n",
       "      <th>Rate</th>\n",
       "    </tr>\n",
       "  </thead>\n",
       "  <tbody>\n",
       "    <tr>\n",
       "      <th>4</th>\n",
       "      <td>Not Stated or Unknown</td>\n",
       "      <td>91</td>\n",
       "      <td>89583</td>\n",
       "      <td>1.02</td>\n",
       "    </tr>\n",
       "    <tr>\n",
       "      <th>0</th>\n",
       "      <td>American Indian</td>\n",
       "      <td>105</td>\n",
       "      <td>19627</td>\n",
       "      <td>5.35</td>\n",
       "    </tr>\n",
       "    <tr>\n",
       "      <th>5</th>\n",
       "      <td>Pacific Islander/Hawaiian</td>\n",
       "      <td>153</td>\n",
       "      <td>23499</td>\n",
       "      <td>6.51</td>\n",
       "    </tr>\n",
       "    <tr>\n",
       "      <th>6</th>\n",
       "      <td>Two or more races</td>\n",
       "      <td>1038</td>\n",
       "      <td>94906</td>\n",
       "      <td>10.94</td>\n",
       "    </tr>\n",
       "    <tr>\n",
       "      <th>1</th>\n",
       "      <td>Asian</td>\n",
       "      <td>1887</td>\n",
       "      <td>639944</td>\n",
       "      <td>2.95</td>\n",
       "    </tr>\n",
       "    <tr>\n",
       "      <th>2</th>\n",
       "      <td>Black</td>\n",
       "      <td>3137</td>\n",
       "      <td>282125</td>\n",
       "      <td>11.12</td>\n",
       "    </tr>\n",
       "    <tr>\n",
       "      <th>7</th>\n",
       "      <td>White/Other</td>\n",
       "      <td>6236</td>\n",
       "      <td>1465278</td>\n",
       "      <td>4.26</td>\n",
       "    </tr>\n",
       "    <tr>\n",
       "      <th>3</th>\n",
       "      <td>Hispanic</td>\n",
       "      <td>13657</td>\n",
       "      <td>2695240</td>\n",
       "      <td>5.07</td>\n",
       "    </tr>\n",
       "  </tbody>\n",
       "</table>\n",
       "</div>"
      ],
      "text/plain": [
       "                        Race  Count  Total Live Births   Rate\n",
       "4      Not Stated or Unknown     91              89583   1.02\n",
       "0            American Indian    105              19627   5.35\n",
       "5  Pacific Islander/Hawaiian    153              23499   6.51\n",
       "6          Two or more races   1038              94906  10.94\n",
       "1                      Asian   1887             639944   2.95\n",
       "2                      Black   3137             282125  11.12\n",
       "7                White/Other   6236            1465278   4.26\n",
       "3                   Hispanic  13657            2695240   5.07"
      ]
     },
     "execution_count": 12,
     "metadata": {},
     "output_type": "execute_result"
    }
   ],
   "source": [
    "race_df = pd.read_csv(\"../data/race/total.csv\")\n",
    "sorted_df = race_df.sort_values('Count')\n",
    "sorted_df"
   ]
  },
  {
   "cell_type": "code",
   "execution_count": 19,
   "metadata": {},
   "outputs": [
    {
     "data": {
      "image/png": "[encoded data removed]",
      "text/plain": [
       "<Figure size 432x288 with 1 Axes>"
      ]
     },
     "metadata": {},
     "output_type": "display_data"
    },
    {
     "data": {
      "text/plain": [
       "<Figure size 432x288 with 0 Axes>"
      ]
     },
     "metadata": {},
     "output_type": "display_data"
    }
   ],
   "source": [
    "def my_autopct(pct):\n",
    "    return ('%.2f' % pct) if pct > 3 else ''\n",
    "\n",
    "plt.pie(sorted_df['Rate'], labels=sorted_df['Race'][:].tolist(), \n",
    "        autopct=my_autopct, startangle=140)\n",
    "plt.axis('equal')\n",
    "plt.show()\n",
    "plt.savefig('../images/race.png')"
   ]
  },
  {
   "cell_type": "code",
   "execution_count": null,
   "metadata": {},
   "outputs": [],
   "source": []
  }
 ],
 "metadata": {
  "kernelspec": {
   "display_name": "Python 3",
   "language": "python",
   "name": "python3"
  },
  "language_info": {
   "codemirror_mode": {
    "name": "ipython",
    "version": 3
   },
   "file_extension": ".py",
   "mimetype": "text/x-python",
   "name": "python",
   "nbconvert_exporter": "python",
   "pygments_lexer": "ipython3",
   "version": "3.7.0"
  }
 },
 "nbformat": 4,
 "nbformat_minor": 2
}
